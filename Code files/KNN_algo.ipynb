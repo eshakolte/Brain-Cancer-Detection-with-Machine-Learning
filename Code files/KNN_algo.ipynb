{
  "nbformat": 4,
  "nbformat_minor": 0,
  "metadata": {
    "colab": {
      "name": "KNN of PyCK_RF.ipynb",
      "provenance": [],
      "collapsed_sections": []
    },
    "kernelspec": {
      "name": "python3",
      "display_name": "Python 3"
    },
    "language_info": {
      "name": "python"
    }
  },
  "cells": [
    {
      "cell_type": "code",
      "metadata": {
        "id": "kczCrsykCNWE"
      },
      "source": [
        "import pandas as pd\n",
        "import numpy as np\n",
        "import matplotlib.pyplot as plt\n",
        "import seaborn"
      ],
      "execution_count": 70,
      "outputs": []
    },
    {
      "cell_type": "code",
      "metadata": {
        "colab": {
          "base_uri": "https://localhost:8080/"
        },
        "id": "40Ogyub0C2o1",
        "outputId": "caf9bead-1c23-4cb3-97dc-ddaf92367427"
      },
      "source": [
        "from google.colab import drive\n",
        "drive.mount('/content/drive')"
      ],
      "execution_count": 71,
      "outputs": [
        {
          "output_type": "stream",
          "text": [
            "Drive already mounted at /content/drive; to attempt to forcibly remount, call drive.mount(\"/content/drive\", force_remount=True).\n"
          ],
          "name": "stdout"
        }
      ]
    },
    {
      "cell_type": "code",
      "metadata": {
        "id": "vG0DimLpDEEx"
      },
      "source": [
        "path = \"drive/My Drive/CombinedInput.xlsx\"\n",
        "df = pd.read_excel(path)"
      ],
      "execution_count": 72,
      "outputs": []
    },
    {
      "cell_type": "code",
      "metadata": {
        "colab": {
          "base_uri": "https://localhost:8080/",
          "height": 240
        },
        "id": "_16z1dBfDssU",
        "outputId": "ce00b78e-025d-4f43-b457-eca85b50ea29"
      },
      "source": [
        "df.head()"
      ],
      "execution_count": 73,
      "outputs": [
        {
          "output_type": "execute_result",
          "data": {
            "text/html": [
              "<div>\n",
              "<style scoped>\n",
              "    .dataframe tbody tr th:only-of-type {\n",
              "        vertical-align: middle;\n",
              "    }\n",
              "\n",
              "    .dataframe tbody tr th {\n",
              "        vertical-align: top;\n",
              "    }\n",
              "\n",
              "    .dataframe thead th {\n",
              "        text-align: right;\n",
              "    }\n",
              "</style>\n",
              "<table border=\"1\" class=\"dataframe\">\n",
              "  <thead>\n",
              "    <tr style=\"text-align: right;\">\n",
              "      <th></th>\n",
              "      <th>Unnamed: 0</th>\n",
              "      <th>A0A0B4J1X5</th>\n",
              "      <th>O00592</th>\n",
              "      <th>O15438</th>\n",
              "      <th>O75884</th>\n",
              "      <th>O95816</th>\n",
              "      <th>P00747</th>\n",
              "      <th>P00966</th>\n",
              "      <th>P01861</th>\n",
              "      <th>P02652</th>\n",
              "      <th>P02671</th>\n",
              "      <th>P02675</th>\n",
              "      <th>P02679</th>\n",
              "      <th>P02730</th>\n",
              "      <th>P02750</th>\n",
              "      <th>P02753</th>\n",
              "      <th>P02766</th>\n",
              "      <th>P05090</th>\n",
              "      <th>P08311</th>\n",
              "      <th>P08697</th>\n",
              "      <th>P12429</th>\n",
              "      <th>P14923</th>\n",
              "      <th>P17677</th>\n",
              "      <th>P19652</th>\n",
              "      <th>P19827</th>\n",
              "      <th>P22105</th>\n",
              "      <th>P25311</th>\n",
              "      <th>P25685</th>\n",
              "      <th>P26447</th>\n",
              "      <th>P35556</th>\n",
              "      <th>P39060</th>\n",
              "      <th>P54652</th>\n",
              "      <th>P61626</th>\n",
              "      <th>Q13510</th>\n",
              "      <th>Q14126</th>\n",
              "      <th>Q15714</th>\n",
              "      <th>Q96CN7</th>\n",
              "      <th>Q96T23</th>\n",
              "      <th>Q9BWS9</th>\n",
              "      <th>Q9UM54</th>\n",
              "      <th>Q9Y625</th>\n",
              "    </tr>\n",
              "  </thead>\n",
              "  <tbody>\n",
              "    <tr>\n",
              "      <th>0</th>\n",
              "      <td>1</td>\n",
              "      <td>0.482161</td>\n",
              "      <td>0.473002</td>\n",
              "      <td>0.509935</td>\n",
              "      <td>0.545214</td>\n",
              "      <td>0.535377</td>\n",
              "      <td>0.507855</td>\n",
              "      <td>0.572658</td>\n",
              "      <td>0.627768</td>\n",
              "      <td>0.572704</td>\n",
              "      <td>0.622162</td>\n",
              "      <td>0.646808</td>\n",
              "      <td>0.630159</td>\n",
              "      <td>0.551593</td>\n",
              "      <td>0.429741</td>\n",
              "      <td>0.413356</td>\n",
              "      <td>0.573848</td>\n",
              "      <td>0.496759</td>\n",
              "      <td>0.438208</td>\n",
              "      <td>0.482986</td>\n",
              "      <td>0.568084</td>\n",
              "      <td>0.518428</td>\n",
              "      <td>0.473744</td>\n",
              "      <td>0.481524</td>\n",
              "      <td>0.429425</td>\n",
              "      <td>0.384986</td>\n",
              "      <td>0.489815</td>\n",
              "      <td>0.502149</td>\n",
              "      <td>0.516913</td>\n",
              "      <td>0.546054</td>\n",
              "      <td>0.636945</td>\n",
              "      <td>0.469058</td>\n",
              "      <td>0.503675</td>\n",
              "      <td>0.498989</td>\n",
              "      <td>0.546852</td>\n",
              "      <td>0.531698</td>\n",
              "      <td>0.462822</td>\n",
              "      <td>0.421360</td>\n",
              "      <td>0.502206</td>\n",
              "      <td>0.399124</td>\n",
              "      <td>0.539576</td>\n",
              "    </tr>\n",
              "    <tr>\n",
              "      <th>1</th>\n",
              "      <td>1</td>\n",
              "      <td>0.611093</td>\n",
              "      <td>0.495021</td>\n",
              "      <td>0.611706</td>\n",
              "      <td>0.464316</td>\n",
              "      <td>0.585244</td>\n",
              "      <td>0.585918</td>\n",
              "      <td>0.557084</td>\n",
              "      <td>0.703404</td>\n",
              "      <td>0.624437</td>\n",
              "      <td>0.724484</td>\n",
              "      <td>0.753363</td>\n",
              "      <td>0.746158</td>\n",
              "      <td>0.619233</td>\n",
              "      <td>0.592113</td>\n",
              "      <td>0.514353</td>\n",
              "      <td>0.623954</td>\n",
              "      <td>0.603097</td>\n",
              "      <td>0.714300</td>\n",
              "      <td>0.523701</td>\n",
              "      <td>0.676114</td>\n",
              "      <td>0.528624</td>\n",
              "      <td>0.549236</td>\n",
              "      <td>0.649329</td>\n",
              "      <td>0.551592</td>\n",
              "      <td>0.305159</td>\n",
              "      <td>0.603453</td>\n",
              "      <td>0.504922</td>\n",
              "      <td>0.655154</td>\n",
              "      <td>0.510988</td>\n",
              "      <td>0.603164</td>\n",
              "      <td>0.455294</td>\n",
              "      <td>0.752663</td>\n",
              "      <td>0.692753</td>\n",
              "      <td>0.526675</td>\n",
              "      <td>0.505984</td>\n",
              "      <td>0.512422</td>\n",
              "      <td>0.521113</td>\n",
              "      <td>0.493575</td>\n",
              "      <td>0.488063</td>\n",
              "      <td>0.529156</td>\n",
              "    </tr>\n",
              "    <tr>\n",
              "      <th>2</th>\n",
              "      <td>1</td>\n",
              "      <td>0.544422</td>\n",
              "      <td>0.508639</td>\n",
              "      <td>0.699819</td>\n",
              "      <td>0.467568</td>\n",
              "      <td>0.505753</td>\n",
              "      <td>0.667078</td>\n",
              "      <td>0.624651</td>\n",
              "      <td>0.662358</td>\n",
              "      <td>0.723317</td>\n",
              "      <td>0.772431</td>\n",
              "      <td>0.778523</td>\n",
              "      <td>0.775723</td>\n",
              "      <td>0.738656</td>\n",
              "      <td>0.537660</td>\n",
              "      <td>0.601254</td>\n",
              "      <td>0.695240</td>\n",
              "      <td>0.634550</td>\n",
              "      <td>0.537013</td>\n",
              "      <td>0.622484</td>\n",
              "      <td>0.417213</td>\n",
              "      <td>0.525448</td>\n",
              "      <td>0.438503</td>\n",
              "      <td>0.590120</td>\n",
              "      <td>0.620053</td>\n",
              "      <td>0.527161</td>\n",
              "      <td>0.631156</td>\n",
              "      <td>0.527476</td>\n",
              "      <td>0.494942</td>\n",
              "      <td>0.465173</td>\n",
              "      <td>0.617775</td>\n",
              "      <td>0.631569</td>\n",
              "      <td>0.593322</td>\n",
              "      <td>0.494685</td>\n",
              "      <td>0.539642</td>\n",
              "      <td>0.482494</td>\n",
              "      <td>0.546504</td>\n",
              "      <td>0.552488</td>\n",
              "      <td>0.470651</td>\n",
              "      <td>0.472605</td>\n",
              "      <td>0.564230</td>\n",
              "    </tr>\n",
              "    <tr>\n",
              "      <th>3</th>\n",
              "      <td>1</td>\n",
              "      <td>0.501175</td>\n",
              "      <td>0.522488</td>\n",
              "      <td>0.560591</td>\n",
              "      <td>0.576073</td>\n",
              "      <td>0.546440</td>\n",
              "      <td>0.495649</td>\n",
              "      <td>0.504929</td>\n",
              "      <td>0.540970</td>\n",
              "      <td>0.579686</td>\n",
              "      <td>0.609067</td>\n",
              "      <td>0.634594</td>\n",
              "      <td>0.536052</td>\n",
              "      <td>0.502909</td>\n",
              "      <td>0.456649</td>\n",
              "      <td>0.507768</td>\n",
              "      <td>0.577783</td>\n",
              "      <td>0.484080</td>\n",
              "      <td>0.532526</td>\n",
              "      <td>0.497208</td>\n",
              "      <td>0.643714</td>\n",
              "      <td>0.593052</td>\n",
              "      <td>0.672221</td>\n",
              "      <td>0.453051</td>\n",
              "      <td>0.532959</td>\n",
              "      <td>0.340168</td>\n",
              "      <td>0.475439</td>\n",
              "      <td>0.447628</td>\n",
              "      <td>0.480333</td>\n",
              "      <td>0.481129</td>\n",
              "      <td>0.570765</td>\n",
              "      <td>0.543252</td>\n",
              "      <td>0.539652</td>\n",
              "      <td>0.557409</td>\n",
              "      <td>0.490263</td>\n",
              "      <td>0.540621</td>\n",
              "      <td>0.496449</td>\n",
              "      <td>0.493885</td>\n",
              "      <td>0.472020</td>\n",
              "      <td>0.520375</td>\n",
              "      <td>0.529292</td>\n",
              "    </tr>\n",
              "    <tr>\n",
              "      <th>4</th>\n",
              "      <td>1</td>\n",
              "      <td>0.513616</td>\n",
              "      <td>0.603717</td>\n",
              "      <td>0.600744</td>\n",
              "      <td>0.498089</td>\n",
              "      <td>0.566472</td>\n",
              "      <td>0.602531</td>\n",
              "      <td>0.639247</td>\n",
              "      <td>0.659958</td>\n",
              "      <td>0.699253</td>\n",
              "      <td>0.692676</td>\n",
              "      <td>0.699870</td>\n",
              "      <td>0.691576</td>\n",
              "      <td>0.562496</td>\n",
              "      <td>0.550682</td>\n",
              "      <td>0.500400</td>\n",
              "      <td>0.569119</td>\n",
              "      <td>0.615366</td>\n",
              "      <td>0.513073</td>\n",
              "      <td>0.463757</td>\n",
              "      <td>0.634271</td>\n",
              "      <td>0.687095</td>\n",
              "      <td>0.544294</td>\n",
              "      <td>0.581788</td>\n",
              "      <td>0.498303</td>\n",
              "      <td>0.575439</td>\n",
              "      <td>0.526801</td>\n",
              "      <td>0.507870</td>\n",
              "      <td>0.541807</td>\n",
              "      <td>0.531045</td>\n",
              "      <td>0.667115</td>\n",
              "      <td>0.497157</td>\n",
              "      <td>0.536869</td>\n",
              "      <td>0.537729</td>\n",
              "      <td>0.646656</td>\n",
              "      <td>0.604936</td>\n",
              "      <td>0.464546</td>\n",
              "      <td>0.491498</td>\n",
              "      <td>0.477580</td>\n",
              "      <td>0.535413</td>\n",
              "      <td>0.521307</td>\n",
              "    </tr>\n",
              "  </tbody>\n",
              "</table>\n",
              "</div>"
            ],
            "text/plain": [
              "   Unnamed: 0  A0A0B4J1X5    O00592  ...    Q9BWS9    Q9UM54    Q9Y625\n",
              "0           1    0.482161  0.473002  ...  0.502206  0.399124  0.539576\n",
              "1           1    0.611093  0.495021  ...  0.493575  0.488063  0.529156\n",
              "2           1    0.544422  0.508639  ...  0.470651  0.472605  0.564230\n",
              "3           1    0.501175  0.522488  ...  0.472020  0.520375  0.529292\n",
              "4           1    0.513616  0.603717  ...  0.477580  0.535413  0.521307\n",
              "\n",
              "[5 rows x 41 columns]"
            ]
          },
          "metadata": {
            "tags": []
          },
          "execution_count": 73
        }
      ]
    },
    {
      "cell_type": "code",
      "metadata": {
        "colab": {
          "base_uri": "https://localhost:8080/"
        },
        "id": "KMsPPOJ6Dw10",
        "outputId": "93d25a43-2b6b-4c3e-b651-6df90f29e28d"
      },
      "source": [
        "df.columns"
      ],
      "execution_count": 74,
      "outputs": [
        {
          "output_type": "execute_result",
          "data": {
            "text/plain": [
              "Index(['Unnamed: 0', 'A0A0B4J1X5', 'O00592', 'O15438', 'O75884', 'O95816',\n",
              "       'P00747', 'P00966', 'P01861', 'P02652', 'P02671', 'P02675', 'P02679',\n",
              "       'P02730', 'P02750', 'P02753', 'P02766', 'P05090', 'P08311', 'P08697',\n",
              "       'P12429', 'P14923', 'P17677', 'P19652', 'P19827', 'P22105', 'P25311',\n",
              "       'P25685', 'P26447', 'P35556', 'P39060', 'P54652', 'P61626', 'Q13510',\n",
              "       'Q14126', 'Q15714', 'Q96CN7', 'Q96T23', 'Q9BWS9', 'Q9UM54', 'Q9Y625'],\n",
              "      dtype='object')"
            ]
          },
          "metadata": {
            "tags": []
          },
          "execution_count": 74
        }
      ]
    },
    {
      "cell_type": "code",
      "metadata": {
        "id": "kABoOf7eD0A_"
      },
      "source": [
        "df.rename({'Unnamed: 0':'Labels'},axis = 1, inplace=True)"
      ],
      "execution_count": 75,
      "outputs": []
    },
    {
      "cell_type": "code",
      "metadata": {
        "colab": {
          "base_uri": "https://localhost:8080/",
          "height": 224
        },
        "id": "nBGNWIQED-jT",
        "outputId": "b5d0bb6b-2e4a-4506-a8aa-79d9bcf63b57"
      },
      "source": [
        "df.head()"
      ],
      "execution_count": 76,
      "outputs": [
        {
          "output_type": "execute_result",
          "data": {
            "text/html": [
              "<div>\n",
              "<style scoped>\n",
              "    .dataframe tbody tr th:only-of-type {\n",
              "        vertical-align: middle;\n",
              "    }\n",
              "\n",
              "    .dataframe tbody tr th {\n",
              "        vertical-align: top;\n",
              "    }\n",
              "\n",
              "    .dataframe thead th {\n",
              "        text-align: right;\n",
              "    }\n",
              "</style>\n",
              "<table border=\"1\" class=\"dataframe\">\n",
              "  <thead>\n",
              "    <tr style=\"text-align: right;\">\n",
              "      <th></th>\n",
              "      <th>Labels</th>\n",
              "      <th>A0A0B4J1X5</th>\n",
              "      <th>O00592</th>\n",
              "      <th>O15438</th>\n",
              "      <th>O75884</th>\n",
              "      <th>O95816</th>\n",
              "      <th>P00747</th>\n",
              "      <th>P00966</th>\n",
              "      <th>P01861</th>\n",
              "      <th>P02652</th>\n",
              "      <th>P02671</th>\n",
              "      <th>P02675</th>\n",
              "      <th>P02679</th>\n",
              "      <th>P02730</th>\n",
              "      <th>P02750</th>\n",
              "      <th>P02753</th>\n",
              "      <th>P02766</th>\n",
              "      <th>P05090</th>\n",
              "      <th>P08311</th>\n",
              "      <th>P08697</th>\n",
              "      <th>P12429</th>\n",
              "      <th>P14923</th>\n",
              "      <th>P17677</th>\n",
              "      <th>P19652</th>\n",
              "      <th>P19827</th>\n",
              "      <th>P22105</th>\n",
              "      <th>P25311</th>\n",
              "      <th>P25685</th>\n",
              "      <th>P26447</th>\n",
              "      <th>P35556</th>\n",
              "      <th>P39060</th>\n",
              "      <th>P54652</th>\n",
              "      <th>P61626</th>\n",
              "      <th>Q13510</th>\n",
              "      <th>Q14126</th>\n",
              "      <th>Q15714</th>\n",
              "      <th>Q96CN7</th>\n",
              "      <th>Q96T23</th>\n",
              "      <th>Q9BWS9</th>\n",
              "      <th>Q9UM54</th>\n",
              "      <th>Q9Y625</th>\n",
              "    </tr>\n",
              "  </thead>\n",
              "  <tbody>\n",
              "    <tr>\n",
              "      <th>0</th>\n",
              "      <td>1</td>\n",
              "      <td>0.482161</td>\n",
              "      <td>0.473002</td>\n",
              "      <td>0.509935</td>\n",
              "      <td>0.545214</td>\n",
              "      <td>0.535377</td>\n",
              "      <td>0.507855</td>\n",
              "      <td>0.572658</td>\n",
              "      <td>0.627768</td>\n",
              "      <td>0.572704</td>\n",
              "      <td>0.622162</td>\n",
              "      <td>0.646808</td>\n",
              "      <td>0.630159</td>\n",
              "      <td>0.551593</td>\n",
              "      <td>0.429741</td>\n",
              "      <td>0.413356</td>\n",
              "      <td>0.573848</td>\n",
              "      <td>0.496759</td>\n",
              "      <td>0.438208</td>\n",
              "      <td>0.482986</td>\n",
              "      <td>0.568084</td>\n",
              "      <td>0.518428</td>\n",
              "      <td>0.473744</td>\n",
              "      <td>0.481524</td>\n",
              "      <td>0.429425</td>\n",
              "      <td>0.384986</td>\n",
              "      <td>0.489815</td>\n",
              "      <td>0.502149</td>\n",
              "      <td>0.516913</td>\n",
              "      <td>0.546054</td>\n",
              "      <td>0.636945</td>\n",
              "      <td>0.469058</td>\n",
              "      <td>0.503675</td>\n",
              "      <td>0.498989</td>\n",
              "      <td>0.546852</td>\n",
              "      <td>0.531698</td>\n",
              "      <td>0.462822</td>\n",
              "      <td>0.421360</td>\n",
              "      <td>0.502206</td>\n",
              "      <td>0.399124</td>\n",
              "      <td>0.539576</td>\n",
              "    </tr>\n",
              "    <tr>\n",
              "      <th>1</th>\n",
              "      <td>1</td>\n",
              "      <td>0.611093</td>\n",
              "      <td>0.495021</td>\n",
              "      <td>0.611706</td>\n",
              "      <td>0.464316</td>\n",
              "      <td>0.585244</td>\n",
              "      <td>0.585918</td>\n",
              "      <td>0.557084</td>\n",
              "      <td>0.703404</td>\n",
              "      <td>0.624437</td>\n",
              "      <td>0.724484</td>\n",
              "      <td>0.753363</td>\n",
              "      <td>0.746158</td>\n",
              "      <td>0.619233</td>\n",
              "      <td>0.592113</td>\n",
              "      <td>0.514353</td>\n",
              "      <td>0.623954</td>\n",
              "      <td>0.603097</td>\n",
              "      <td>0.714300</td>\n",
              "      <td>0.523701</td>\n",
              "      <td>0.676114</td>\n",
              "      <td>0.528624</td>\n",
              "      <td>0.549236</td>\n",
              "      <td>0.649329</td>\n",
              "      <td>0.551592</td>\n",
              "      <td>0.305159</td>\n",
              "      <td>0.603453</td>\n",
              "      <td>0.504922</td>\n",
              "      <td>0.655154</td>\n",
              "      <td>0.510988</td>\n",
              "      <td>0.603164</td>\n",
              "      <td>0.455294</td>\n",
              "      <td>0.752663</td>\n",
              "      <td>0.692753</td>\n",
              "      <td>0.526675</td>\n",
              "      <td>0.505984</td>\n",
              "      <td>0.512422</td>\n",
              "      <td>0.521113</td>\n",
              "      <td>0.493575</td>\n",
              "      <td>0.488063</td>\n",
              "      <td>0.529156</td>\n",
              "    </tr>\n",
              "    <tr>\n",
              "      <th>2</th>\n",
              "      <td>1</td>\n",
              "      <td>0.544422</td>\n",
              "      <td>0.508639</td>\n",
              "      <td>0.699819</td>\n",
              "      <td>0.467568</td>\n",
              "      <td>0.505753</td>\n",
              "      <td>0.667078</td>\n",
              "      <td>0.624651</td>\n",
              "      <td>0.662358</td>\n",
              "      <td>0.723317</td>\n",
              "      <td>0.772431</td>\n",
              "      <td>0.778523</td>\n",
              "      <td>0.775723</td>\n",
              "      <td>0.738656</td>\n",
              "      <td>0.537660</td>\n",
              "      <td>0.601254</td>\n",
              "      <td>0.695240</td>\n",
              "      <td>0.634550</td>\n",
              "      <td>0.537013</td>\n",
              "      <td>0.622484</td>\n",
              "      <td>0.417213</td>\n",
              "      <td>0.525448</td>\n",
              "      <td>0.438503</td>\n",
              "      <td>0.590120</td>\n",
              "      <td>0.620053</td>\n",
              "      <td>0.527161</td>\n",
              "      <td>0.631156</td>\n",
              "      <td>0.527476</td>\n",
              "      <td>0.494942</td>\n",
              "      <td>0.465173</td>\n",
              "      <td>0.617775</td>\n",
              "      <td>0.631569</td>\n",
              "      <td>0.593322</td>\n",
              "      <td>0.494685</td>\n",
              "      <td>0.539642</td>\n",
              "      <td>0.482494</td>\n",
              "      <td>0.546504</td>\n",
              "      <td>0.552488</td>\n",
              "      <td>0.470651</td>\n",
              "      <td>0.472605</td>\n",
              "      <td>0.564230</td>\n",
              "    </tr>\n",
              "    <tr>\n",
              "      <th>3</th>\n",
              "      <td>1</td>\n",
              "      <td>0.501175</td>\n",
              "      <td>0.522488</td>\n",
              "      <td>0.560591</td>\n",
              "      <td>0.576073</td>\n",
              "      <td>0.546440</td>\n",
              "      <td>0.495649</td>\n",
              "      <td>0.504929</td>\n",
              "      <td>0.540970</td>\n",
              "      <td>0.579686</td>\n",
              "      <td>0.609067</td>\n",
              "      <td>0.634594</td>\n",
              "      <td>0.536052</td>\n",
              "      <td>0.502909</td>\n",
              "      <td>0.456649</td>\n",
              "      <td>0.507768</td>\n",
              "      <td>0.577783</td>\n",
              "      <td>0.484080</td>\n",
              "      <td>0.532526</td>\n",
              "      <td>0.497208</td>\n",
              "      <td>0.643714</td>\n",
              "      <td>0.593052</td>\n",
              "      <td>0.672221</td>\n",
              "      <td>0.453051</td>\n",
              "      <td>0.532959</td>\n",
              "      <td>0.340168</td>\n",
              "      <td>0.475439</td>\n",
              "      <td>0.447628</td>\n",
              "      <td>0.480333</td>\n",
              "      <td>0.481129</td>\n",
              "      <td>0.570765</td>\n",
              "      <td>0.543252</td>\n",
              "      <td>0.539652</td>\n",
              "      <td>0.557409</td>\n",
              "      <td>0.490263</td>\n",
              "      <td>0.540621</td>\n",
              "      <td>0.496449</td>\n",
              "      <td>0.493885</td>\n",
              "      <td>0.472020</td>\n",
              "      <td>0.520375</td>\n",
              "      <td>0.529292</td>\n",
              "    </tr>\n",
              "    <tr>\n",
              "      <th>4</th>\n",
              "      <td>1</td>\n",
              "      <td>0.513616</td>\n",
              "      <td>0.603717</td>\n",
              "      <td>0.600744</td>\n",
              "      <td>0.498089</td>\n",
              "      <td>0.566472</td>\n",
              "      <td>0.602531</td>\n",
              "      <td>0.639247</td>\n",
              "      <td>0.659958</td>\n",
              "      <td>0.699253</td>\n",
              "      <td>0.692676</td>\n",
              "      <td>0.699870</td>\n",
              "      <td>0.691576</td>\n",
              "      <td>0.562496</td>\n",
              "      <td>0.550682</td>\n",
              "      <td>0.500400</td>\n",
              "      <td>0.569119</td>\n",
              "      <td>0.615366</td>\n",
              "      <td>0.513073</td>\n",
              "      <td>0.463757</td>\n",
              "      <td>0.634271</td>\n",
              "      <td>0.687095</td>\n",
              "      <td>0.544294</td>\n",
              "      <td>0.581788</td>\n",
              "      <td>0.498303</td>\n",
              "      <td>0.575439</td>\n",
              "      <td>0.526801</td>\n",
              "      <td>0.507870</td>\n",
              "      <td>0.541807</td>\n",
              "      <td>0.531045</td>\n",
              "      <td>0.667115</td>\n",
              "      <td>0.497157</td>\n",
              "      <td>0.536869</td>\n",
              "      <td>0.537729</td>\n",
              "      <td>0.646656</td>\n",
              "      <td>0.604936</td>\n",
              "      <td>0.464546</td>\n",
              "      <td>0.491498</td>\n",
              "      <td>0.477580</td>\n",
              "      <td>0.535413</td>\n",
              "      <td>0.521307</td>\n",
              "    </tr>\n",
              "  </tbody>\n",
              "</table>\n",
              "</div>"
            ],
            "text/plain": [
              "   Labels  A0A0B4J1X5    O00592  ...    Q9BWS9    Q9UM54    Q9Y625\n",
              "0       1    0.482161  0.473002  ...  0.502206  0.399124  0.539576\n",
              "1       1    0.611093  0.495021  ...  0.493575  0.488063  0.529156\n",
              "2       1    0.544422  0.508639  ...  0.470651  0.472605  0.564230\n",
              "3       1    0.501175  0.522488  ...  0.472020  0.520375  0.529292\n",
              "4       1    0.513616  0.603717  ...  0.477580  0.535413  0.521307\n",
              "\n",
              "[5 rows x 41 columns]"
            ]
          },
          "metadata": {
            "tags": []
          },
          "execution_count": 76
        }
      ]
    },
    {
      "cell_type": "code",
      "metadata": {
        "colab": {
          "base_uri": "https://localhost:8080/"
        },
        "id": "lTIfpsb7IoPU",
        "outputId": "deb8ecad-16fa-455a-c9b7-a32c2955e772"
      },
      "source": [
        "df.shape"
      ],
      "execution_count": 77,
      "outputs": [
        {
          "output_type": "execute_result",
          "data": {
            "text/plain": [
              "(46, 41)"
            ]
          },
          "metadata": {
            "tags": []
          },
          "execution_count": 77
        }
      ]
    },
    {
      "cell_type": "code",
      "metadata": {
        "colab": {
          "base_uri": "https://localhost:8080/"
        },
        "id": "vP8uoXEF331N",
        "outputId": "2a2902ab-615b-485e-ab43-b3a8fce1d4cc"
      },
      "source": [
        "correlation_matrix = df.corr()\n",
        "correlation_matrix[\"Labels\"]"
      ],
      "execution_count": 78,
      "outputs": [
        {
          "output_type": "execute_result",
          "data": {
            "text/plain": [
              "Labels        1.000000\n",
              "A0A0B4J1X5   -0.039601\n",
              "O00592       -0.174756\n",
              "O15438       -0.125332\n",
              "O75884       -0.406631\n",
              "O95816       -0.222994\n",
              "P00747       -0.045677\n",
              "P00966       -0.059868\n",
              "P01861       -0.038139\n",
              "P02652       -0.178073\n",
              "P02671        0.175916\n",
              "P02675        0.185437\n",
              "P02679        0.188733\n",
              "P02730        0.247770\n",
              "P02750       -0.168440\n",
              "P02753       -0.014502\n",
              "P02766       -0.254737\n",
              "P05090       -0.051799\n",
              "P08311        0.172713\n",
              "P08697       -0.218033\n",
              "P12429       -0.023953\n",
              "P14923       -0.107689\n",
              "P17677        0.088421\n",
              "P19652       -0.189109\n",
              "P19827        0.085516\n",
              "P22105       -0.135429\n",
              "P25311       -0.222072\n",
              "P25685       -0.040373\n",
              "P26447        0.046636\n",
              "P35556        0.084241\n",
              "P39060        0.061054\n",
              "P54652        0.249685\n",
              "P61626       -0.097782\n",
              "Q13510       -0.142922\n",
              "Q14126        0.063669\n",
              "Q15714        0.070110\n",
              "Q96CN7       -0.211253\n",
              "Q96T23        0.124824\n",
              "Q9BWS9       -0.184866\n",
              "Q9UM54       -0.254912\n",
              "Q9Y625       -0.077598\n",
              "Name: Labels, dtype: float64"
            ]
          },
          "metadata": {
            "tags": []
          },
          "execution_count": 78
        }
      ]
    },
    {
      "cell_type": "code",
      "metadata": {
        "id": "yxRWA5m8EBPa"
      },
      "source": [
        "from sklearn.neighbors import  KNeighborsClassifier\n",
        "from sklearn.metrics import confusion_matrix\n",
        "from sklearn.model_selection import train_test_split\n",
        "from sklearn.preprocessing import StandardScaler\n",
        "from sklearn import metrics"
      ],
      "execution_count": 79,
      "outputs": []
    },
    {
      "cell_type": "code",
      "metadata": {
        "colab": {
          "base_uri": "https://localhost:8080/"
        },
        "id": "mYxufFxsuGze",
        "outputId": "2d948698-7cc7-49f6-a345-ad4bba147999"
      },
      "source": [
        "df.columns"
      ],
      "execution_count": 80,
      "outputs": [
        {
          "output_type": "execute_result",
          "data": {
            "text/plain": [
              "Index(['Labels', 'A0A0B4J1X5', 'O00592', 'O15438', 'O75884', 'O95816',\n",
              "       'P00747', 'P00966', 'P01861', 'P02652', 'P02671', 'P02675', 'P02679',\n",
              "       'P02730', 'P02750', 'P02753', 'P02766', 'P05090', 'P08311', 'P08697',\n",
              "       'P12429', 'P14923', 'P17677', 'P19652', 'P19827', 'P22105', 'P25311',\n",
              "       'P25685', 'P26447', 'P35556', 'P39060', 'P54652', 'P61626', 'Q13510',\n",
              "       'Q14126', 'Q15714', 'Q96CN7', 'Q96T23', 'Q9BWS9', 'Q9UM54', 'Q9Y625'],\n",
              "      dtype='object')"
            ]
          },
          "metadata": {
            "tags": []
          },
          "execution_count": 80
        }
      ]
    },
    {
      "cell_type": "code",
      "metadata": {
        "id": "LaLPR051Ea70"
      },
      "source": [
        "X = df.iloc[:,1:].values\n",
        "y = df.iloc[:,0].values"
      ],
      "execution_count": 81,
      "outputs": []
    },
    {
      "cell_type": "code",
      "metadata": {
        "colab": {
          "base_uri": "https://localhost:8080/"
        },
        "id": "PzSxYFYIFSlQ",
        "outputId": "6ef4d7b5-15aa-41ba-ea1c-2c7e8f7bf494"
      },
      "source": [
        "X"
      ],
      "execution_count": 82,
      "outputs": [
        {
          "output_type": "execute_result",
          "data": {
            "text/plain": [
              "array([[0.48216094, 0.47300247, 0.50993487, ..., 0.50220551, 0.39912369,\n",
              "        0.53957622],\n",
              "       [0.61109321, 0.49502142, 0.61170552, ..., 0.49357527, 0.48806343,\n",
              "        0.52915599],\n",
              "       [0.5444217 , 0.50863902, 0.69981856, ..., 0.47065112, 0.47260506,\n",
              "        0.56423002],\n",
              "       ...,\n",
              "       [0.57024314, 0.45268075, 0.61498703, ..., 0.42278861, 0.59261262,\n",
              "        0.44881451],\n",
              "       [0.58102336, 0.51905667, 0.57544172, ..., 0.42232669, 0.55824008,\n",
              "        0.40849517],\n",
              "       [0.4040198 , 0.37049642, 0.43537138, ..., 0.44545285, 0.50154852,\n",
              "        0.47430849]])"
            ]
          },
          "metadata": {
            "tags": []
          },
          "execution_count": 82
        }
      ]
    },
    {
      "cell_type": "code",
      "metadata": {
        "colab": {
          "base_uri": "https://localhost:8080/"
        },
        "id": "e5e0enFSIarf",
        "outputId": "04926d9d-df5a-4b0a-f76d-b5a0ba378026"
      },
      "source": [
        "X.shape"
      ],
      "execution_count": 83,
      "outputs": [
        {
          "output_type": "execute_result",
          "data": {
            "text/plain": [
              "(46, 40)"
            ]
          },
          "metadata": {
            "tags": []
          },
          "execution_count": 83
        }
      ]
    },
    {
      "cell_type": "code",
      "metadata": {
        "colab": {
          "base_uri": "https://localhost:8080/"
        },
        "id": "L-FA21X4FqHA",
        "outputId": "4a6c10e5-5836-4703-c00a-85cc90b123a2"
      },
      "source": [
        "y"
      ],
      "execution_count": 84,
      "outputs": [
        {
          "output_type": "execute_result",
          "data": {
            "text/plain": [
              "array([1, 1, 1, 1, 1, 1, 1, 1, 1, 1, 1, 1, 1, 1, 1, 1, 1, 1, 1, 1, 1, 0,\n",
              "       0, 0, 0, 0, 0, 0, 0, 0, 0, 0, 0, 0, 0, 0, 0, 0, 0, 0, 0, 0, 0, 0,\n",
              "       0, 0])"
            ]
          },
          "metadata": {
            "tags": []
          },
          "execution_count": 84
        }
      ]
    },
    {
      "cell_type": "code",
      "metadata": {
        "colab": {
          "base_uri": "https://localhost:8080/"
        },
        "id": "-MrFD6w-I1EL",
        "outputId": "2489e42d-f817-4221-ebd1-3811ce9ce5b5"
      },
      "source": [
        "y.shape"
      ],
      "execution_count": 85,
      "outputs": [
        {
          "output_type": "execute_result",
          "data": {
            "text/plain": [
              "(46,)"
            ]
          },
          "metadata": {
            "tags": []
          },
          "execution_count": 85
        }
      ]
    },
    {
      "cell_type": "code",
      "metadata": {
        "id": "7IDuxtgBNato"
      },
      "source": [
        "from sklearn.metrics import accuracy_score  \n",
        "from sklearn.metrics import confusion_matrix\n",
        "from sklearn.metrics import mean_squared_error\n",
        "from math import sqrt"
      ],
      "execution_count": 86,
      "outputs": []
    },
    {
      "cell_type": "code",
      "metadata": {
        "id": "CuwuIb8aGDy6"
      },
      "source": [
        "# Creating the Training and Test set from data\n",
        "X_train, X_test, y_train, y_test = train_test_split(X, y, test_size = 0.30, random_state = 42)\n",
        "\n",
        "# Feature Scaling\n",
        "scaler = StandardScaler()\n",
        "X_train = scaler.fit_transform(X_train)\n",
        "X_test = scaler.transform(X_test)"
      ],
      "execution_count": 87,
      "outputs": []
    },
    {
      "cell_type": "code",
      "metadata": {
        "id": "EmIsSM_G0Lza"
      },
      "source": [
        "from sklearn.neighbors import KNeighborsClassifier\n",
        "classifier = KNeighborsClassifier(n_neighbors=3)"
      ],
      "execution_count": 88,
      "outputs": []
    },
    {
      "cell_type": "code",
      "metadata": {
        "id": "EVbtvzvaKQSJ",
        "colab": {
          "base_uri": "https://localhost:8080/"
        },
        "outputId": "b9ce5c2a-eefe-424a-c8a9-d988f16d8e31"
      },
      "source": [
        "print('Training Features Shape:', X_train.shape)\n",
        "print('Training Labels Shape:', y_train.shape)\n",
        "print('Testing Features Shape:', X_test.shape)\n",
        "print('Testing Labels Shape:', y_test.shape)"
      ],
      "execution_count": 89,
      "outputs": [
        {
          "output_type": "stream",
          "text": [
            "Training Features Shape: (32, 40)\n",
            "Training Labels Shape: (32,)\n",
            "Testing Features Shape: (14, 40)\n",
            "Testing Labels Shape: (14,)\n"
          ],
          "name": "stdout"
        }
      ]
    },
    {
      "cell_type": "code",
      "metadata": {
        "colab": {
          "base_uri": "https://localhost:8080/"
        },
        "id": "dCDytGDJyytG",
        "outputId": "18a81ee4-5fed-42f3-de8c-257b503b2cd3"
      },
      "source": [
        "classifier.fit(X_train, y_train)"
      ],
      "execution_count": 90,
      "outputs": [
        {
          "output_type": "execute_result",
          "data": {
            "text/plain": [
              "KNeighborsClassifier(algorithm='auto', leaf_size=30, metric='minkowski',\n",
              "                     metric_params=None, n_jobs=None, n_neighbors=3, p=2,\n",
              "                     weights='uniform')"
            ]
          },
          "metadata": {
            "tags": []
          },
          "execution_count": 90
        }
      ]
    },
    {
      "cell_type": "code",
      "metadata": {
        "id": "XR-anVpSGyA0",
        "colab": {
          "base_uri": "https://localhost:8080/"
        },
        "outputId": "ce77be6c-c375-4dd5-e061-c165e3a58dea"
      },
      "source": [
        "# Predicting the Test set results\n",
        "y_pred = classifier.predict(X_test)\n",
        "print(y_pred)"
      ],
      "execution_count": 91,
      "outputs": [
        {
          "output_type": "stream",
          "text": [
            "[0 1 0 0 0 1 0 0 1 0 0 0 0 0]\n"
          ],
          "name": "stdout"
        }
      ]
    },
    {
      "cell_type": "code",
      "metadata": {
        "colab": {
          "base_uri": "https://localhost:8080/"
        },
        "id": "Jg-y1wdyBaR7",
        "outputId": "62f88a87-5334-4efc-85af-17080c2fbde1"
      },
      "source": [
        "print(classifier.score(X_test, y_test))"
      ],
      "execution_count": 92,
      "outputs": [
        {
          "output_type": "stream",
          "text": [
            "0.5\n"
          ],
          "name": "stdout"
        }
      ]
    },
    {
      "cell_type": "code",
      "metadata": {
        "colab": {
          "base_uri": "https://localhost:8080/"
        },
        "id": "7z-O7K3aB95y",
        "outputId": "0ef97338-f0f9-4f20-9d96-268a18ca3854"
      },
      "source": [
        "scores_classification = accuracy_score(y_test, y_pred)\n",
        "print(scores_classification)"
      ],
      "execution_count": 93,
      "outputs": [
        {
          "output_type": "stream",
          "text": [
            "0.5\n"
          ],
          "name": "stdout"
        }
      ]
    },
    {
      "cell_type": "code",
      "metadata": {
        "colab": {
          "base_uri": "https://localhost:8080/"
        },
        "id": "4nJ5lHMjGf7h",
        "outputId": "c1e71e25-6c71-4387-cf97-02a755d6b67d"
      },
      "source": [
        "cm = confusion_matrix(y_test, y_pred)\n",
        "print(cm)"
      ],
      "execution_count": 94,
      "outputs": [
        {
          "output_type": "stream",
          "text": [
            "[[6 2]\n",
            " [5 1]]\n"
          ],
          "name": "stdout"
        }
      ]
    },
    {
      "cell_type": "code",
      "metadata": {
        "id": "Z4qA1MbQG2BB",
        "colab": {
          "base_uri": "https://localhost:8080/"
        },
        "outputId": "5fc8579c-40f0-4346-eddd-b844c560fc61"
      },
      "source": [
        "train_preds = classifier.predict(X_train)\n",
        "mse = mean_squared_error(y_train, train_preds)\n",
        "rmse = sqrt(mse)\n",
        "rmse"
      ],
      "execution_count": 95,
      "outputs": [
        {
          "output_type": "execute_result",
          "data": {
            "text/plain": [
              "0.3535533905932738"
            ]
          },
          "metadata": {
            "tags": []
          },
          "execution_count": 95
        }
      ]
    },
    {
      "cell_type": "code",
      "metadata": {
        "colab": {
          "base_uri": "https://localhost:8080/"
        },
        "id": "oxASWKiO8LSA",
        "outputId": "2a1209ff-31f9-4bdd-c60b-7d08aa7f405b"
      },
      "source": [
        "test_preds = classifier.predict(X_test)\n",
        "mse = mean_squared_error(y_test, test_preds)\n",
        "rmse = sqrt(mse)\n",
        "rmse"
      ],
      "execution_count": 96,
      "outputs": [
        {
          "output_type": "execute_result",
          "data": {
            "text/plain": [
              "0.7071067811865476"
            ]
          },
          "metadata": {
            "tags": []
          },
          "execution_count": 96
        }
      ]
    },
    {
      "cell_type": "code",
      "metadata": {
        "colab": {
          "base_uri": "https://localhost:8080/",
          "height": 280
        },
        "id": "otJzUWMgE7hK",
        "outputId": "8cc26166-a35a-4628-8db7-e0821974441a"
      },
      "source": [
        "from sklearn.neighbors import KNeighborsClassifier\n",
        "from sklearn.model_selection import train_test_split\n",
        "import numpy as np\n",
        "import matplotlib.pyplot as plt\n",
        "\n",
        "# Split into training and test set\n",
        "X_train, X_test, y_train, y_test = train_test_split(\n",
        "             X, y, test_size = 0.2, random_state=42)\n",
        "  \n",
        "neighbors = np.arange(1, 9)\n",
        "train_accuracy = np.empty(len(neighbors))\n",
        "test_accuracy = np.empty(len(neighbors))\n",
        "  \n",
        "# Loop over K values\n",
        "for i, k in enumerate(neighbors):\n",
        "    knn = KNeighborsClassifier(n_neighbors=k)\n",
        "    knn.fit(X_train, y_train)\n",
        "    \n",
        "    # Compute traning and test data accuracy\n",
        "    train_accuracy[i] = knn.score(X_train, y_train)\n",
        "    test_accuracy[i] = knn.score(X_test, y_test)\n",
        "  \n",
        "# Generate plot\n",
        "plt.plot(neighbors, test_accuracy, label = 'Testing dataset Accuracy')\n",
        "plt.plot(neighbors, train_accuracy, label = 'Training dataset Accuracy')\n",
        "plt.legend()\n",
        "plt.xlabel('n_neighbors')\n",
        "plt.ylabel('Accuracy')\n",
        "plt.show()"
      ],
      "execution_count": 97,
      "outputs": [
        {
          "output_type": "display_data",
          "data": {
            "image/png": "[encoded data removed]",
            "text/plain": [
              "<Figure size 432x288 with 1 Axes>"
            ]
          },
          "metadata": {
            "tags": [],
            "needs_background": "light"
          }
        }
      ]
    },
    {
      "cell_type": "code",
      "metadata": {
        "id": "pD-jVfzfybGT"
      },
      "source": [
        "y_pred = knn.predict(X_test)"
      ],
      "execution_count": 98,
      "outputs": []
    },
    {
      "cell_type": "code",
      "metadata": {
        "colab": {
          "base_uri": "https://localhost:8080/"
        },
        "id": "S2SHja6kyQ3I",
        "outputId": "691ddc0b-90ff-4a40-d22f-707a443002ec"
      },
      "source": [
        "print(pd.crosstab(y_test, y_pred, rownames=['Actual'], colnames=['Predicted']))"
      ],
      "execution_count": 99,
      "outputs": [
        {
          "output_type": "stream",
          "text": [
            "Predicted  0  1\n",
            "Actual         \n",
            "0          5  1\n",
            "1          4  0\n"
          ],
          "name": "stdout"
        }
      ]
    },
    {
      "cell_type": "code",
      "metadata": {
        "colab": {
          "base_uri": "https://localhost:8080/"
        },
        "id": "utx8xF6wwc4O",
        "outputId": "428ee689-1396-4596-8045-036be837237a"
      },
      "source": [
        "print(\"Accuracy:\",metrics.accuracy_score(y_test, y_pred))"
      ],
      "execution_count": 100,
      "outputs": [
        {
          "output_type": "stream",
          "text": [
            "Accuracy: 0.5\n"
          ],
          "name": "stdout"
        }
      ]
    }
  ]
}