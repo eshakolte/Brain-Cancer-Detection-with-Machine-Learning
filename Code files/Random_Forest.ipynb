{
  "nbformat": 4,
  "nbformat_minor": 0,
  "metadata": {
    "colab": {
      "name": "PyCK_RF.ipynb",
      "provenance": [],
      "collapsed_sections": []
    },
    "kernelspec": {
      "name": "python3",
      "display_name": "Python 3"
    },
    "language_info": {
      "name": "python"
    }
  },
  "cells": [
    {
      "cell_type": "code",
      "metadata": {
        "id": "kczCrsykCNWE"
      },
      "source": [
        "import pandas as pd\n",
        "import numpy as np\n",
        "import matplotlib.pyplot as plt\n",
        "import seaborn"
      ],
      "execution_count": null,
      "outputs": []
    },
    {
      "cell_type": "code",
      "metadata": {
        "colab": {
          "base_uri": "https://localhost:8080/"
        },
        "id": "40Ogyub0C2o1",
        "outputId": "5866decd-cff6-402a-f0e6-c1461d73df38"
      },
      "source": [
        "from google.colab import drive\n",
        "drive.mount('/content/drive')"
      ],
      "execution_count": null,
      "outputs": [
        {
          "output_type": "stream",
          "text": [
            "Drive already mounted at /content/drive; to attempt to forcibly remount, call drive.mount(\"/content/drive\", force_remount=True).\n"
          ],
          "name": "stdout"
        }
      ]
    },
    {
      "cell_type": "code",
      "metadata": {
        "id": "vG0DimLpDEEx"
      },
      "source": [
        "path = \"drive/My Drive/CombinedInput.xlsx\"\n",
        "df = pd.read_excel(path)"
      ],
      "execution_count": null,
      "outputs": []
    },
    {
      "cell_type": "code",
      "metadata": {
        "colab": {
          "base_uri": "https://localhost:8080/",
          "height": 178
        },
        "id": "_16z1dBfDssU",
        "outputId": "45ed0d38-1674-4909-9536-4886cfa3a4c4"
      },
      "source": [
        "df.head(3)"
      ],
      "execution_count": null,
      "outputs": [
        {
          "output_type": "execute_result",
          "data": {
            "text/html": [
              "<div>\n",
              "<style scoped>\n",
              "    .dataframe tbody tr th:only-of-type {\n",
              "        vertical-align: middle;\n",
              "    }\n",
              "\n",
              "    .dataframe tbody tr th {\n",
              "        vertical-align: top;\n",
              "    }\n",
              "\n",
              "    .dataframe thead th {\n",
              "        text-align: right;\n",
              "    }\n",
              "</style>\n",
              "<table border=\"1\" class=\"dataframe\">\n",
              "  <thead>\n",
              "    <tr style=\"text-align: right;\">\n",
              "      <th></th>\n",
              "      <th>Unnamed: 0</th>\n",
              "      <th>A0A0B4J1X5</th>\n",
              "      <th>O00592</th>\n",
              "      <th>O15438</th>\n",
              "      <th>O75884</th>\n",
              "      <th>O95816</th>\n",
              "      <th>P00747</th>\n",
              "      <th>P00966</th>\n",
              "      <th>P01861</th>\n",
              "      <th>P02652</th>\n",
              "      <th>P02671</th>\n",
              "      <th>P02675</th>\n",
              "      <th>P02679</th>\n",
              "      <th>P02730</th>\n",
              "      <th>P02750</th>\n",
              "      <th>P02753</th>\n",
              "      <th>P02766</th>\n",
              "      <th>P05090</th>\n",
              "      <th>P08311</th>\n",
              "      <th>P08697</th>\n",
              "      <th>P12429</th>\n",
              "      <th>P14923</th>\n",
              "      <th>P17677</th>\n",
              "      <th>P19652</th>\n",
              "      <th>P19827</th>\n",
              "      <th>P22105</th>\n",
              "      <th>P25311</th>\n",
              "      <th>P25685</th>\n",
              "      <th>P26447</th>\n",
              "      <th>P35556</th>\n",
              "      <th>P39060</th>\n",
              "      <th>P54652</th>\n",
              "      <th>P61626</th>\n",
              "      <th>Q13510</th>\n",
              "      <th>Q14126</th>\n",
              "      <th>Q15714</th>\n",
              "      <th>Q96CN7</th>\n",
              "      <th>Q96T23</th>\n",
              "      <th>Q9BWS9</th>\n",
              "      <th>Q9UM54</th>\n",
              "      <th>Q9Y625</th>\n",
              "    </tr>\n",
              "  </thead>\n",
              "  <tbody>\n",
              "    <tr>\n",
              "      <th>0</th>\n",
              "      <td>1</td>\n",
              "      <td>0.482161</td>\n",
              "      <td>0.473002</td>\n",
              "      <td>0.509935</td>\n",
              "      <td>0.545214</td>\n",
              "      <td>0.535377</td>\n",
              "      <td>0.507855</td>\n",
              "      <td>0.572658</td>\n",
              "      <td>0.627768</td>\n",
              "      <td>0.572704</td>\n",
              "      <td>0.622162</td>\n",
              "      <td>0.646808</td>\n",
              "      <td>0.630159</td>\n",
              "      <td>0.551593</td>\n",
              "      <td>0.429741</td>\n",
              "      <td>0.413356</td>\n",
              "      <td>0.573848</td>\n",
              "      <td>0.496759</td>\n",
              "      <td>0.438208</td>\n",
              "      <td>0.482986</td>\n",
              "      <td>0.568084</td>\n",
              "      <td>0.518428</td>\n",
              "      <td>0.473744</td>\n",
              "      <td>0.481524</td>\n",
              "      <td>0.429425</td>\n",
              "      <td>0.384986</td>\n",
              "      <td>0.489815</td>\n",
              "      <td>0.502149</td>\n",
              "      <td>0.516913</td>\n",
              "      <td>0.546054</td>\n",
              "      <td>0.636945</td>\n",
              "      <td>0.469058</td>\n",
              "      <td>0.503675</td>\n",
              "      <td>0.498989</td>\n",
              "      <td>0.546852</td>\n",
              "      <td>0.531698</td>\n",
              "      <td>0.462822</td>\n",
              "      <td>0.421360</td>\n",
              "      <td>0.502206</td>\n",
              "      <td>0.399124</td>\n",
              "      <td>0.539576</td>\n",
              "    </tr>\n",
              "    <tr>\n",
              "      <th>1</th>\n",
              "      <td>1</td>\n",
              "      <td>0.611093</td>\n",
              "      <td>0.495021</td>\n",
              "      <td>0.611706</td>\n",
              "      <td>0.464316</td>\n",
              "      <td>0.585244</td>\n",
              "      <td>0.585918</td>\n",
              "      <td>0.557084</td>\n",
              "      <td>0.703404</td>\n",
              "      <td>0.624437</td>\n",
              "      <td>0.724484</td>\n",
              "      <td>0.753363</td>\n",
              "      <td>0.746158</td>\n",
              "      <td>0.619233</td>\n",
              "      <td>0.592113</td>\n",
              "      <td>0.514353</td>\n",
              "      <td>0.623954</td>\n",
              "      <td>0.603097</td>\n",
              "      <td>0.714300</td>\n",
              "      <td>0.523701</td>\n",
              "      <td>0.676114</td>\n",
              "      <td>0.528624</td>\n",
              "      <td>0.549236</td>\n",
              "      <td>0.649329</td>\n",
              "      <td>0.551592</td>\n",
              "      <td>0.305159</td>\n",
              "      <td>0.603453</td>\n",
              "      <td>0.504922</td>\n",
              "      <td>0.655154</td>\n",
              "      <td>0.510988</td>\n",
              "      <td>0.603164</td>\n",
              "      <td>0.455294</td>\n",
              "      <td>0.752663</td>\n",
              "      <td>0.692753</td>\n",
              "      <td>0.526675</td>\n",
              "      <td>0.505984</td>\n",
              "      <td>0.512422</td>\n",
              "      <td>0.521113</td>\n",
              "      <td>0.493575</td>\n",
              "      <td>0.488063</td>\n",
              "      <td>0.529156</td>\n",
              "    </tr>\n",
              "    <tr>\n",
              "      <th>2</th>\n",
              "      <td>1</td>\n",
              "      <td>0.544422</td>\n",
              "      <td>0.508639</td>\n",
              "      <td>0.699819</td>\n",
              "      <td>0.467568</td>\n",
              "      <td>0.505753</td>\n",
              "      <td>0.667078</td>\n",
              "      <td>0.624651</td>\n",
              "      <td>0.662358</td>\n",
              "      <td>0.723317</td>\n",
              "      <td>0.772431</td>\n",
              "      <td>0.778523</td>\n",
              "      <td>0.775723</td>\n",
              "      <td>0.738656</td>\n",
              "      <td>0.537660</td>\n",
              "      <td>0.601254</td>\n",
              "      <td>0.695240</td>\n",
              "      <td>0.634550</td>\n",
              "      <td>0.537013</td>\n",
              "      <td>0.622484</td>\n",
              "      <td>0.417213</td>\n",
              "      <td>0.525448</td>\n",
              "      <td>0.438503</td>\n",
              "      <td>0.590120</td>\n",
              "      <td>0.620053</td>\n",
              "      <td>0.527161</td>\n",
              "      <td>0.631156</td>\n",
              "      <td>0.527476</td>\n",
              "      <td>0.494942</td>\n",
              "      <td>0.465173</td>\n",
              "      <td>0.617775</td>\n",
              "      <td>0.631569</td>\n",
              "      <td>0.593322</td>\n",
              "      <td>0.494685</td>\n",
              "      <td>0.539642</td>\n",
              "      <td>0.482494</td>\n",
              "      <td>0.546504</td>\n",
              "      <td>0.552488</td>\n",
              "      <td>0.470651</td>\n",
              "      <td>0.472605</td>\n",
              "      <td>0.564230</td>\n",
              "    </tr>\n",
              "  </tbody>\n",
              "</table>\n",
              "</div>"
            ],
            "text/plain": [
              "   Unnamed: 0  A0A0B4J1X5    O00592  ...    Q9BWS9    Q9UM54    Q9Y625\n",
              "0           1    0.482161  0.473002  ...  0.502206  0.399124  0.539576\n",
              "1           1    0.611093  0.495021  ...  0.493575  0.488063  0.529156\n",
              "2           1    0.544422  0.508639  ...  0.470651  0.472605  0.564230\n",
              "\n",
              "[3 rows x 41 columns]"
            ]
          },
          "metadata": {
            "tags": []
          },
          "execution_count": 8
        }
      ]
    },
    {
      "cell_type": "code",
      "metadata": {
        "colab": {
          "base_uri": "https://localhost:8080/"
        },
        "id": "KMsPPOJ6Dw10",
        "outputId": "05ce1f55-ade3-4928-a164-d2ee2fb05343"
      },
      "source": [
        "df.columns"
      ],
      "execution_count": null,
      "outputs": [
        {
          "output_type": "execute_result",
          "data": {
            "text/plain": [
              "Index(['Unnamed: 0', 'A0A0B4J1X5', 'O00592', 'O15438', 'O75884', 'O95816',\n",
              "       'P00747', 'P00966', 'P01861', 'P02652', 'P02671', 'P02675', 'P02679',\n",
              "       'P02730', 'P02750', 'P02753', 'P02766', 'P05090', 'P08311', 'P08697',\n",
              "       'P12429', 'P14923', 'P17677', 'P19652', 'P19827', 'P22105', 'P25311',\n",
              "       'P25685', 'P26447', 'P35556', 'P39060', 'P54652', 'P61626', 'Q13510',\n",
              "       'Q14126', 'Q15714', 'Q96CN7', 'Q96T23', 'Q9BWS9', 'Q9UM54', 'Q9Y625'],\n",
              "      dtype='object')"
            ]
          },
          "metadata": {
            "tags": []
          },
          "execution_count": 9
        }
      ]
    },
    {
      "cell_type": "code",
      "metadata": {
        "id": "kABoOf7eD0A_"
      },
      "source": [
        "df.rename({'Unnamed: 0':'Labels'},axis = 1, inplace=True)"
      ],
      "execution_count": null,
      "outputs": []
    },
    {
      "cell_type": "code",
      "metadata": {
        "colab": {
          "base_uri": "https://localhost:8080/",
          "height": 223
        },
        "id": "nBGNWIQED-jT",
        "outputId": "3bbb8bb7-a6e3-487b-caa3-b058b4d5a21a"
      },
      "source": [
        "df.head()"
      ],
      "execution_count": null,
      "outputs": [
        {
          "output_type": "execute_result",
          "data": {
            "text/html": [
              "<div>\n",
              "<style scoped>\n",
              "    .dataframe tbody tr th:only-of-type {\n",
              "        vertical-align: middle;\n",
              "    }\n",
              "\n",
              "    .dataframe tbody tr th {\n",
              "        vertical-align: top;\n",
              "    }\n",
              "\n",
              "    .dataframe thead th {\n",
              "        text-align: right;\n",
              "    }\n",
              "</style>\n",
              "<table border=\"1\" class=\"dataframe\">\n",
              "  <thead>\n",
              "    <tr style=\"text-align: right;\">\n",
              "      <th></th>\n",
              "      <th>Labels</th>\n",
              "      <th>A0A0B4J1X5</th>\n",
              "      <th>O00592</th>\n",
              "      <th>O15438</th>\n",
              "      <th>O75884</th>\n",
              "      <th>O95816</th>\n",
              "      <th>P00747</th>\n",
              "      <th>P00966</th>\n",
              "      <th>P01861</th>\n",
              "      <th>P02652</th>\n",
              "      <th>P02671</th>\n",
              "      <th>P02675</th>\n",
              "      <th>P02679</th>\n",
              "      <th>P02730</th>\n",
              "      <th>P02750</th>\n",
              "      <th>P02753</th>\n",
              "      <th>P02766</th>\n",
              "      <th>P05090</th>\n",
              "      <th>P08311</th>\n",
              "      <th>P08697</th>\n",
              "      <th>P12429</th>\n",
              "      <th>P14923</th>\n",
              "      <th>P17677</th>\n",
              "      <th>P19652</th>\n",
              "      <th>P19827</th>\n",
              "      <th>P22105</th>\n",
              "      <th>P25311</th>\n",
              "      <th>P25685</th>\n",
              "      <th>P26447</th>\n",
              "      <th>P35556</th>\n",
              "      <th>P39060</th>\n",
              "      <th>P54652</th>\n",
              "      <th>P61626</th>\n",
              "      <th>Q13510</th>\n",
              "      <th>Q14126</th>\n",
              "      <th>Q15714</th>\n",
              "      <th>Q96CN7</th>\n",
              "      <th>Q96T23</th>\n",
              "      <th>Q9BWS9</th>\n",
              "      <th>Q9UM54</th>\n",
              "      <th>Q9Y625</th>\n",
              "    </tr>\n",
              "  </thead>\n",
              "  <tbody>\n",
              "    <tr>\n",
              "      <th>0</th>\n",
              "      <td>1</td>\n",
              "      <td>0.482161</td>\n",
              "      <td>0.473002</td>\n",
              "      <td>0.509935</td>\n",
              "      <td>0.545214</td>\n",
              "      <td>0.535377</td>\n",
              "      <td>0.507855</td>\n",
              "      <td>0.572658</td>\n",
              "      <td>0.627768</td>\n",
              "      <td>0.572704</td>\n",
              "      <td>0.622162</td>\n",
              "      <td>0.646808</td>\n",
              "      <td>0.630159</td>\n",
              "      <td>0.551593</td>\n",
              "      <td>0.429741</td>\n",
              "      <td>0.413356</td>\n",
              "      <td>0.573848</td>\n",
              "      <td>0.496759</td>\n",
              "      <td>0.438208</td>\n",
              "      <td>0.482986</td>\n",
              "      <td>0.568084</td>\n",
              "      <td>0.518428</td>\n",
              "      <td>0.473744</td>\n",
              "      <td>0.481524</td>\n",
              "      <td>0.429425</td>\n",
              "      <td>0.384986</td>\n",
              "      <td>0.489815</td>\n",
              "      <td>0.502149</td>\n",
              "      <td>0.516913</td>\n",
              "      <td>0.546054</td>\n",
              "      <td>0.636945</td>\n",
              "      <td>0.469058</td>\n",
              "      <td>0.503675</td>\n",
              "      <td>0.498989</td>\n",
              "      <td>0.546852</td>\n",
              "      <td>0.531698</td>\n",
              "      <td>0.462822</td>\n",
              "      <td>0.421360</td>\n",
              "      <td>0.502206</td>\n",
              "      <td>0.399124</td>\n",
              "      <td>0.539576</td>\n",
              "    </tr>\n",
              "    <tr>\n",
              "      <th>1</th>\n",
              "      <td>1</td>\n",
              "      <td>0.611093</td>\n",
              "      <td>0.495021</td>\n",
              "      <td>0.611706</td>\n",
              "      <td>0.464316</td>\n",
              "      <td>0.585244</td>\n",
              "      <td>0.585918</td>\n",
              "      <td>0.557084</td>\n",
              "      <td>0.703404</td>\n",
              "      <td>0.624437</td>\n",
              "      <td>0.724484</td>\n",
              "      <td>0.753363</td>\n",
              "      <td>0.746158</td>\n",
              "      <td>0.619233</td>\n",
              "      <td>0.592113</td>\n",
              "      <td>0.514353</td>\n",
              "      <td>0.623954</td>\n",
              "      <td>0.603097</td>\n",
              "      <td>0.714300</td>\n",
              "      <td>0.523701</td>\n",
              "      <td>0.676114</td>\n",
              "      <td>0.528624</td>\n",
              "      <td>0.549236</td>\n",
              "      <td>0.649329</td>\n",
              "      <td>0.551592</td>\n",
              "      <td>0.305159</td>\n",
              "      <td>0.603453</td>\n",
              "      <td>0.504922</td>\n",
              "      <td>0.655154</td>\n",
              "      <td>0.510988</td>\n",
              "      <td>0.603164</td>\n",
              "      <td>0.455294</td>\n",
              "      <td>0.752663</td>\n",
              "      <td>0.692753</td>\n",
              "      <td>0.526675</td>\n",
              "      <td>0.505984</td>\n",
              "      <td>0.512422</td>\n",
              "      <td>0.521113</td>\n",
              "      <td>0.493575</td>\n",
              "      <td>0.488063</td>\n",
              "      <td>0.529156</td>\n",
              "    </tr>\n",
              "    <tr>\n",
              "      <th>2</th>\n",
              "      <td>1</td>\n",
              "      <td>0.544422</td>\n",
              "      <td>0.508639</td>\n",
              "      <td>0.699819</td>\n",
              "      <td>0.467568</td>\n",
              "      <td>0.505753</td>\n",
              "      <td>0.667078</td>\n",
              "      <td>0.624651</td>\n",
              "      <td>0.662358</td>\n",
              "      <td>0.723317</td>\n",
              "      <td>0.772431</td>\n",
              "      <td>0.778523</td>\n",
              "      <td>0.775723</td>\n",
              "      <td>0.738656</td>\n",
              "      <td>0.537660</td>\n",
              "      <td>0.601254</td>\n",
              "      <td>0.695240</td>\n",
              "      <td>0.634550</td>\n",
              "      <td>0.537013</td>\n",
              "      <td>0.622484</td>\n",
              "      <td>0.417213</td>\n",
              "      <td>0.525448</td>\n",
              "      <td>0.438503</td>\n",
              "      <td>0.590120</td>\n",
              "      <td>0.620053</td>\n",
              "      <td>0.527161</td>\n",
              "      <td>0.631156</td>\n",
              "      <td>0.527476</td>\n",
              "      <td>0.494942</td>\n",
              "      <td>0.465173</td>\n",
              "      <td>0.617775</td>\n",
              "      <td>0.631569</td>\n",
              "      <td>0.593322</td>\n",
              "      <td>0.494685</td>\n",
              "      <td>0.539642</td>\n",
              "      <td>0.482494</td>\n",
              "      <td>0.546504</td>\n",
              "      <td>0.552488</td>\n",
              "      <td>0.470651</td>\n",
              "      <td>0.472605</td>\n",
              "      <td>0.564230</td>\n",
              "    </tr>\n",
              "    <tr>\n",
              "      <th>3</th>\n",
              "      <td>1</td>\n",
              "      <td>0.501175</td>\n",
              "      <td>0.522488</td>\n",
              "      <td>0.560591</td>\n",
              "      <td>0.576073</td>\n",
              "      <td>0.546440</td>\n",
              "      <td>0.495649</td>\n",
              "      <td>0.504929</td>\n",
              "      <td>0.540970</td>\n",
              "      <td>0.579686</td>\n",
              "      <td>0.609067</td>\n",
              "      <td>0.634594</td>\n",
              "      <td>0.536052</td>\n",
              "      <td>0.502909</td>\n",
              "      <td>0.456649</td>\n",
              "      <td>0.507768</td>\n",
              "      <td>0.577783</td>\n",
              "      <td>0.484080</td>\n",
              "      <td>0.532526</td>\n",
              "      <td>0.497208</td>\n",
              "      <td>0.643714</td>\n",
              "      <td>0.593052</td>\n",
              "      <td>0.672221</td>\n",
              "      <td>0.453051</td>\n",
              "      <td>0.532959</td>\n",
              "      <td>0.340168</td>\n",
              "      <td>0.475439</td>\n",
              "      <td>0.447628</td>\n",
              "      <td>0.480333</td>\n",
              "      <td>0.481129</td>\n",
              "      <td>0.570765</td>\n",
              "      <td>0.543252</td>\n",
              "      <td>0.539652</td>\n",
              "      <td>0.557409</td>\n",
              "      <td>0.490263</td>\n",
              "      <td>0.540621</td>\n",
              "      <td>0.496449</td>\n",
              "      <td>0.493885</td>\n",
              "      <td>0.472020</td>\n",
              "      <td>0.520375</td>\n",
              "      <td>0.529292</td>\n",
              "    </tr>\n",
              "    <tr>\n",
              "      <th>4</th>\n",
              "      <td>1</td>\n",
              "      <td>0.513616</td>\n",
              "      <td>0.603717</td>\n",
              "      <td>0.600744</td>\n",
              "      <td>0.498089</td>\n",
              "      <td>0.566472</td>\n",
              "      <td>0.602531</td>\n",
              "      <td>0.639247</td>\n",
              "      <td>0.659958</td>\n",
              "      <td>0.699253</td>\n",
              "      <td>0.692676</td>\n",
              "      <td>0.699870</td>\n",
              "      <td>0.691576</td>\n",
              "      <td>0.562496</td>\n",
              "      <td>0.550682</td>\n",
              "      <td>0.500400</td>\n",
              "      <td>0.569119</td>\n",
              "      <td>0.615366</td>\n",
              "      <td>0.513073</td>\n",
              "      <td>0.463757</td>\n",
              "      <td>0.634271</td>\n",
              "      <td>0.687095</td>\n",
              "      <td>0.544294</td>\n",
              "      <td>0.581788</td>\n",
              "      <td>0.498303</td>\n",
              "      <td>0.575439</td>\n",
              "      <td>0.526801</td>\n",
              "      <td>0.507870</td>\n",
              "      <td>0.541807</td>\n",
              "      <td>0.531045</td>\n",
              "      <td>0.667115</td>\n",
              "      <td>0.497157</td>\n",
              "      <td>0.536869</td>\n",
              "      <td>0.537729</td>\n",
              "      <td>0.646656</td>\n",
              "      <td>0.604936</td>\n",
              "      <td>0.464546</td>\n",
              "      <td>0.491498</td>\n",
              "      <td>0.477580</td>\n",
              "      <td>0.535413</td>\n",
              "      <td>0.521307</td>\n",
              "    </tr>\n",
              "  </tbody>\n",
              "</table>\n",
              "</div>"
            ],
            "text/plain": [
              "   Labels  A0A0B4J1X5    O00592  ...    Q9BWS9    Q9UM54    Q9Y625\n",
              "0       1    0.482161  0.473002  ...  0.502206  0.399124  0.539576\n",
              "1       1    0.611093  0.495021  ...  0.493575  0.488063  0.529156\n",
              "2       1    0.544422  0.508639  ...  0.470651  0.472605  0.564230\n",
              "3       1    0.501175  0.522488  ...  0.472020  0.520375  0.529292\n",
              "4       1    0.513616  0.603717  ...  0.477580  0.535413  0.521307\n",
              "\n",
              "[5 rows x 41 columns]"
            ]
          },
          "metadata": {
            "tags": []
          },
          "execution_count": 11
        }
      ]
    },
    {
      "cell_type": "code",
      "metadata": {
        "colab": {
          "base_uri": "https://localhost:8080/"
        },
        "id": "lTIfpsb7IoPU",
        "outputId": "9f028302-b2e2-4121-c7b2-8c296067f9bf"
      },
      "source": [
        "df.shape"
      ],
      "execution_count": null,
      "outputs": [
        {
          "output_type": "execute_result",
          "data": {
            "text/plain": [
              "(46, 41)"
            ]
          },
          "metadata": {
            "tags": []
          },
          "execution_count": 12
        }
      ]
    },
    {
      "cell_type": "code",
      "metadata": {
        "id": "yxRWA5m8EBPa"
      },
      "source": [
        "from sklearn.ensemble import RandomForestClassifier\n",
        "from sklearn.metrics import confusion_matrix\n",
        "from sklearn.model_selection import train_test_split\n",
        "from sklearn.preprocessing import StandardScaler\n",
        "from sklearn import metrics"
      ],
      "execution_count": null,
      "outputs": []
    },
    {
      "cell_type": "code",
      "metadata": {
        "colab": {
          "base_uri": "https://localhost:8080/"
        },
        "id": "mYxufFxsuGze",
        "outputId": "b0c97972-c1fa-4715-ecbf-d5b64028ab17"
      },
      "source": [
        "df.columns"
      ],
      "execution_count": null,
      "outputs": [
        {
          "output_type": "execute_result",
          "data": {
            "text/plain": [
              "Index(['Labels', 'A0A0B4J1X5', 'O00592', 'O15438', 'O75884', 'O95816',\n",
              "       'P00747', 'P00966', 'P01861', 'P02652', 'P02671', 'P02675', 'P02679',\n",
              "       'P02730', 'P02750', 'P02753', 'P02766', 'P05090', 'P08311', 'P08697',\n",
              "       'P12429', 'P14923', 'P17677', 'P19652', 'P19827', 'P22105', 'P25311',\n",
              "       'P25685', 'P26447', 'P35556', 'P39060', 'P54652', 'P61626', 'Q13510',\n",
              "       'Q14126', 'Q15714', 'Q96CN7', 'Q96T23', 'Q9BWS9', 'Q9UM54', 'Q9Y625'],\n",
              "      dtype='object')"
            ]
          },
          "metadata": {
            "tags": []
          },
          "execution_count": 14
        }
      ]
    },
    {
      "cell_type": "code",
      "metadata": {
        "id": "LaLPR051Ea70"
      },
      "source": [
        "X = df.iloc[:,1:].values\n",
        "y = df.iloc[:,0].values"
      ],
      "execution_count": null,
      "outputs": []
    },
    {
      "cell_type": "code",
      "metadata": {
        "colab": {
          "base_uri": "https://localhost:8080/"
        },
        "id": "PzSxYFYIFSlQ",
        "outputId": "498c9527-7f9d-4ebc-b54a-b00671c3cec1"
      },
      "source": [
        "X"
      ],
      "execution_count": null,
      "outputs": [
        {
          "output_type": "execute_result",
          "data": {
            "text/plain": [
              "array([[0.48216094, 0.47300247, 0.50993487, ..., 0.50220551, 0.39912369,\n",
              "        0.53957622],\n",
              "       [0.61109321, 0.49502142, 0.61170552, ..., 0.49357527, 0.48806343,\n",
              "        0.52915599],\n",
              "       [0.5444217 , 0.50863902, 0.69981856, ..., 0.47065112, 0.47260506,\n",
              "        0.56423002],\n",
              "       ...,\n",
              "       [0.57024314, 0.45268075, 0.61498703, ..., 0.42278861, 0.59261262,\n",
              "        0.44881451],\n",
              "       [0.58102336, 0.51905667, 0.57544172, ..., 0.42232669, 0.55824008,\n",
              "        0.40849517],\n",
              "       [0.4040198 , 0.37049642, 0.43537138, ..., 0.44545285, 0.50154852,\n",
              "        0.47430849]])"
            ]
          },
          "metadata": {
            "tags": []
          },
          "execution_count": 16
        }
      ]
    },
    {
      "cell_type": "code",
      "metadata": {
        "colab": {
          "base_uri": "https://localhost:8080/"
        },
        "id": "e5e0enFSIarf",
        "outputId": "4da20f8c-5c65-4813-db60-8200c31a6b89"
      },
      "source": [
        "X.shape"
      ],
      "execution_count": null,
      "outputs": [
        {
          "output_type": "execute_result",
          "data": {
            "text/plain": [
              "(46, 40)"
            ]
          },
          "metadata": {
            "tags": []
          },
          "execution_count": 17
        }
      ]
    },
    {
      "cell_type": "code",
      "metadata": {
        "colab": {
          "base_uri": "https://localhost:8080/"
        },
        "id": "L-FA21X4FqHA",
        "outputId": "e609295b-f371-423f-f762-38d3dc688615"
      },
      "source": [
        "y"
      ],
      "execution_count": null,
      "outputs": [
        {
          "output_type": "execute_result",
          "data": {
            "text/plain": [
              "array([1, 1, 1, 1, 1, 1, 1, 1, 1, 1, 1, 1, 1, 1, 1, 1, 1, 1, 1, 1, 1, 0,\n",
              "       0, 0, 0, 0, 0, 0, 0, 0, 0, 0, 0, 0, 0, 0, 0, 0, 0, 0, 0, 0, 0, 0,\n",
              "       0, 0])"
            ]
          },
          "metadata": {
            "tags": []
          },
          "execution_count": 18
        }
      ]
    },
    {
      "cell_type": "code",
      "metadata": {
        "colab": {
          "base_uri": "https://localhost:8080/"
        },
        "id": "-MrFD6w-I1EL",
        "outputId": "3507a4ed-a9f0-4ef7-a164-7ba595db1714"
      },
      "source": [
        "y.shape"
      ],
      "execution_count": null,
      "outputs": [
        {
          "output_type": "execute_result",
          "data": {
            "text/plain": [
              "(46,)"
            ]
          },
          "metadata": {
            "tags": []
          },
          "execution_count": 19
        }
      ]
    },
    {
      "cell_type": "code",
      "metadata": {
        "id": "CuwuIb8aGDy6"
      },
      "source": [
        "# Creating the Training and Test set from data\n",
        "X_train, X_test, y_train, y_test = train_test_split(X, y, test_size = 0.30, random_state = 42)\n",
        "\n",
        "# Feature Scaling\n",
        "scaler = StandardScaler()\n",
        "X_train = scaler.fit_transform(X_train)\n",
        "X_test = scaler.transform(X_test)"
      ],
      "execution_count": null,
      "outputs": []
    },
    {
      "cell_type": "code",
      "metadata": {
        "id": "EVbtvzvaKQSJ",
        "colab": {
          "base_uri": "https://localhost:8080/"
        },
        "outputId": "bfc4885a-76d2-4c3b-af6b-d5d020a56231"
      },
      "source": [
        "print('Training Features Shape:', X_train.shape)\n",
        "print('Training Labels Shape:', y_train.shape)\n",
        "print('Testing Features Shape:', X_test.shape)\n",
        "print('Testing Labels Shape:', y_test.shape)"
      ],
      "execution_count": null,
      "outputs": [
        {
          "output_type": "stream",
          "text": [
            "Training Features Shape: (32, 40)\n",
            "Training Labels Shape: (32,)\n",
            "Testing Features Shape: (14, 40)\n",
            "Testing Labels Shape: (14,)\n"
          ],
          "name": "stdout"
        }
      ]
    },
    {
      "cell_type": "code",
      "metadata": {
        "id": "2O6pFItxGulW",
        "colab": {
          "base_uri": "https://localhost:8080/"
        },
        "outputId": "0217c67f-2cb3-4367-c47f-18eb4ae4b3d9"
      },
      "source": [
        "classifier = RandomForestClassifier(n_estimators=10, max_depth=5, max_features='sqrt', random_state = 42)\n",
        "classifier.fit(X_train, y_train)"
      ],
      "execution_count": null,
      "outputs": [
        {
          "output_type": "execute_result",
          "data": {
            "text/plain": [
              "RandomForestClassifier(bootstrap=True, ccp_alpha=0.0, class_weight=None,\n",
              "                       criterion='gini', max_depth=5, max_features='sqrt',\n",
              "                       max_leaf_nodes=None, max_samples=None,\n",
              "                       min_impurity_decrease=0.0, min_impurity_split=None,\n",
              "                       min_samples_leaf=1, min_samples_split=2,\n",
              "                       min_weight_fraction_leaf=0.0, n_estimators=10,\n",
              "                       n_jobs=None, oob_score=False, random_state=42, verbose=0,\n",
              "                       warm_start=False)"
            ]
          },
          "metadata": {
            "tags": []
          },
          "execution_count": 22
        }
      ]
    },
    {
      "cell_type": "code",
      "metadata": {
        "id": "XR-anVpSGyA0"
      },
      "source": [
        "# Predicting the Test set results\n",
        "y_pred = classifier.predict(X_test)"
      ],
      "execution_count": null,
      "outputs": []
    },
    {
      "cell_type": "code",
      "metadata": {
        "id": "Z4qA1MbQG2BB",
        "colab": {
          "base_uri": "https://localhost:8080/"
        },
        "outputId": "b3646881-de4d-4017-92bc-0631e75a454f"
      },
      "source": [
        "from sklearn.metrics import classification_report, confusion_matrix, accuracy_score\n",
        "result1 = classification_report(y_test, y_pred)\n",
        "print(\"Classification Report:\",)\n",
        "print (result1)\n",
        "\n",
        "result2 = accuracy_score(y_test,y_pred)\n",
        "print(\"Accuracy:\",result2)"
      ],
      "execution_count": null,
      "outputs": [
        {
          "output_type": "stream",
          "text": [
            "Classification Report:\n",
            "              precision    recall  f1-score   support\n",
            "\n",
            "           0       0.58      0.88      0.70         8\n",
            "           1       0.50      0.17      0.25         6\n",
            "\n",
            "    accuracy                           0.57        14\n",
            "   macro avg       0.54      0.52      0.48        14\n",
            "weighted avg       0.55      0.57      0.51        14\n",
            "\n",
            "Accuracy: 0.5714285714285714\n"
          ],
          "name": "stdout"
        }
      ]
    },
    {
      "cell_type": "code",
      "metadata": {
        "id": "ueMXmkWKHFRq",
        "colab": {
          "base_uri": "https://localhost:8080/"
        },
        "outputId": "14639f93-6989-4f5e-d509-bba1725dc672"
      },
      "source": [
        "# Making the Confusion Matrix\n",
        "print(pd.crosstab(y_test, y_pred, rownames=['Actual'], colnames=['Predicted']))"
      ],
      "execution_count": null,
      "outputs": [
        {
          "output_type": "stream",
          "text": [
            "Predicted  0  1\n",
            "Actual         \n",
            "0          7  1\n",
            "1          5  1\n"
          ],
          "name": "stdout"
        }
      ]
    },
    {
      "cell_type": "code",
      "metadata": {
        "colab": {
          "base_uri": "https://localhost:8080/"
        },
        "id": "oUM0IRy5MDqv",
        "outputId": "b4722e2a-4724-44be-94fe-8c3318cdd83d"
      },
      "source": [
        "from sklearn.metrics import accuracy_score  \n",
        "scores_classification = accuracy_score(y_test, y_pred)\n",
        "print(scores_classification)"
      ],
      "execution_count": null,
      "outputs": [
        {
          "output_type": "stream",
          "text": [
            "0.5714285714285714\n"
          ],
          "name": "stdout"
        }
      ]
    },
    {
      "cell_type": "code",
      "metadata": {
        "colab": {
          "base_uri": "https://localhost:8080/"
        },
        "id": "5S192r6yMKH_",
        "outputId": "5669bba6-42fd-453d-c2d6-87a4f653d4e6"
      },
      "source": [
        "from sklearn.metrics import confusion_matrix\n",
        "cm = confusion_matrix(y_test, y_pred)\n",
        "print(cm)"
      ],
      "execution_count": null,
      "outputs": [
        {
          "output_type": "stream",
          "text": [
            "[[7 1]\n",
            " [5 1]]\n"
          ],
          "name": "stdout"
        }
      ]
    },
    {
      "cell_type": "code",
      "metadata": {
        "colab": {
          "base_uri": "https://localhost:8080/"
        },
        "id": "VocUilURMPy7",
        "outputId": "e042f553-bd60-4dc3-d940-bab09d4f8a07"
      },
      "source": [
        "from sklearn.metrics import mean_squared_error\n",
        "from math import sqrt\n",
        "train_preds = classifier.predict(X_train)\n",
        "mse = mean_squared_error(y_train, train_preds)\n",
        "rmse = sqrt(mse)\n",
        "rmse"
      ],
      "execution_count": null,
      "outputs": [
        {
          "output_type": "execute_result",
          "data": {
            "text/plain": [
              "0.1767766952966369"
            ]
          },
          "metadata": {
            "tags": []
          },
          "execution_count": 29
        }
      ]
    },
    {
      "cell_type": "code",
      "metadata": {
        "colab": {
          "base_uri": "https://localhost:8080/"
        },
        "id": "urgTZwONMP5i",
        "outputId": "97ae56d9-7787-4fc9-c95d-8f1769a294ff"
      },
      "source": [
        "test_preds = classifier.predict(X_test)\n",
        "mse = mean_squared_error(y_test, test_preds)\n",
        "rmse = sqrt(mse)\n",
        "rmse"
      ],
      "execution_count": null,
      "outputs": [
        {
          "output_type": "execute_result",
          "data": {
            "text/plain": [
              "0.6546536707079771"
            ]
          },
          "metadata": {
            "tags": []
          },
          "execution_count": 30
        }
      ]
    }
  ]
}